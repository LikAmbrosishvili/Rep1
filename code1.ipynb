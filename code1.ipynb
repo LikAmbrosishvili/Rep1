{
 "cells": [
  {
   "cell_type": "code",
   "execution_count": null,
   "id": "a77d2117-4587-47bb-b6ef-a2a44944a775",
   "metadata": {},
   "outputs": [],
   "source": [
    "def add(a, b):\n",
    "    res = a + b\n",
    "    return res"
   ]
  },
  {
   "cell_type": "code",
   "execution_count": null,
   "id": "51d08801-2a13-447e-a940-9cec75adb82f",
   "metadata": {},
   "outputs": [],
   "source": [
    "result = add(1, 2)\n",
    "print (result)"
   ]
  },
  {
   "cell_type": "code",
   "execution_count": null,
   "id": "013a8dca-f9cc-4911-9329-5b07abbb4870",
   "metadata": {},
   "outputs": [],
   "source": [
    "print(res)"
   ]
  },
  {
   "cell_type": "code",
   "execution_count": null,
   "id": "d42ef80b-f9c4-4543-a410-3698cc3491bf",
   "metadata": {},
   "outputs": [],
   "source": []
  }
 ],
 "metadata": {
  "kernelspec": {
   "display_name": "Python 3 (ipykernel)",
   "language": "python",
   "name": "python3"
  },
  "language_info": {
   "codemirror_mode": {
    "name": "ipython",
    "version": 3
   },
   "file_extension": ".py",
   "mimetype": "text/x-python",
   "name": "python",
   "nbconvert_exporter": "python",
   "pygments_lexer": "ipython3",
   "version": "3.11.5"
  }
 },
 "nbformat": 4,
 "nbformat_minor": 5
}
